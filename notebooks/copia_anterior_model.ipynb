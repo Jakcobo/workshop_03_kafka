{
 "cells": [
  {
   "cell_type": "markdown",
   "id": "5aa035ac",
   "metadata": {},
   "source": [
    "# Model Training"
   ]
  },
  {
   "cell_type": "markdown",
   "id": "2741b616",
   "metadata": {},
   "source": [
    "### Enviroment\n"
   ]
  },
  {
   "cell_type": "code",
   "execution_count": 1,
   "id": "1e02992d",
   "metadata": {},
   "outputs": [],
   "source": [
    "import logging\n",
    "import pandas as pd\n",
    "import os\n",
    "import joblib\n",
    "from sklearn.model_selection import train_test_split\n",
    "from sklearn.pipeline import Pipeline\n",
    "from sklearn.preprocessing import StandardScaler\n",
    "from sklearn.model_selection import GridSearchCV, train_test_split\n",
    "from sklearn.metrics import mean_absolute_error, mean_squared_error, r2_score\n",
    "from sklearn.linear_model import LinearRegression, Ridge, Lasso\n",
    "from sklearn.ensemble import RandomForestRegressor, GradientBoostingRegressor\n",
    "\n",
    "logging.basicConfig(level=logging.INFO)\n",
    "logger = logging.getLogger(__name__)"
   ]
  },
  {
   "cell_type": "code",
   "execution_count": 2,
   "id": "454a18c8",
   "metadata": {},
   "outputs": [
    {
     "name": "stdout",
     "output_type": "stream",
     "text": [
      "Current directory before change: c:\\Users\\Administrador\\Desktop\\workshop_03_kafka\\notebooks\n",
      "Current directory after change: c:\\Users\\Administrador\\Desktop\\workshop_03_kafka\n"
     ]
    }
   ],
   "source": [
    "print(\"Current directory before change:\", os.getcwd())\n",
    "\n",
    "try:\n",
    "    \n",
    "    os.chdir(\"../\")\n",
    "    print(\"Current directory after change:\", os.getcwd())\n",
    "\n",
    "except FileNotFoundError:\n",
    "    print(\"\"\"\n",
    "        FileNotFoundError - The specified directory does not exist or you are already in the root.\n",
    "        If the code already worked once, do not run it again.\n",
    "    \"\"\")"
   ]
  },
  {
   "cell_type": "markdown",
   "id": "69fc8340",
   "metadata": {},
   "source": [
    "### Load Combined Data\n"
   ]
  },
  {
   "cell_type": "code",
   "execution_count": 3,
   "id": "97195f42",
   "metadata": {},
   "outputs": [
    {
     "name": "stderr",
     "output_type": "stream",
     "text": [
      "INFO:__main__:df shape: (781, 10)\n"
     ]
    }
   ],
   "source": [
    "df = pd.read_csv('data/combined_happiness.csv')\n",
    "logger.info(f'df shape: {df.shape}')"
   ]
  },
  {
   "cell_type": "code",
   "execution_count": 4,
   "id": "8096b3b8",
   "metadata": {},
   "outputs": [
    {
     "data": {
      "text/html": [
       "<div>\n",
       "<style scoped>\n",
       "    .dataframe tbody tr th:only-of-type {\n",
       "        vertical-align: middle;\n",
       "    }\n",
       "\n",
       "    .dataframe tbody tr th {\n",
       "        vertical-align: top;\n",
       "    }\n",
       "\n",
       "    .dataframe thead th {\n",
       "        text-align: right;\n",
       "    }\n",
       "</style>\n",
       "<table border=\"1\" class=\"dataframe\">\n",
       "  <thead>\n",
       "    <tr style=\"text-align: right;\">\n",
       "      <th></th>\n",
       "      <th>country</th>\n",
       "      <th>freedom</th>\n",
       "      <th>gdp_per_capita</th>\n",
       "      <th>generosity</th>\n",
       "      <th>happiness_rank</th>\n",
       "      <th>happiness_score</th>\n",
       "      <th>healthy_life_expectancy</th>\n",
       "      <th>social_support</th>\n",
       "      <th>trust_government_corruption</th>\n",
       "      <th>year</th>\n",
       "    </tr>\n",
       "  </thead>\n",
       "  <tbody>\n",
       "    <tr>\n",
       "      <th>0</th>\n",
       "      <td>Switzerland</td>\n",
       "      <td>0.66557</td>\n",
       "      <td>1.39651</td>\n",
       "      <td>0.29678</td>\n",
       "      <td>1</td>\n",
       "      <td>7.587</td>\n",
       "      <td>0.94143</td>\n",
       "      <td>1.34951</td>\n",
       "      <td>0.41978</td>\n",
       "      <td>2015</td>\n",
       "    </tr>\n",
       "    <tr>\n",
       "      <th>1</th>\n",
       "      <td>Iceland</td>\n",
       "      <td>0.62877</td>\n",
       "      <td>1.30232</td>\n",
       "      <td>0.43630</td>\n",
       "      <td>2</td>\n",
       "      <td>7.561</td>\n",
       "      <td>0.94784</td>\n",
       "      <td>1.40223</td>\n",
       "      <td>0.14145</td>\n",
       "      <td>2015</td>\n",
       "    </tr>\n",
       "    <tr>\n",
       "      <th>2</th>\n",
       "      <td>Denmark</td>\n",
       "      <td>0.64938</td>\n",
       "      <td>1.32548</td>\n",
       "      <td>0.34139</td>\n",
       "      <td>3</td>\n",
       "      <td>7.527</td>\n",
       "      <td>0.87464</td>\n",
       "      <td>1.36058</td>\n",
       "      <td>0.48357</td>\n",
       "      <td>2015</td>\n",
       "    </tr>\n",
       "    <tr>\n",
       "      <th>3</th>\n",
       "      <td>Norway</td>\n",
       "      <td>0.66973</td>\n",
       "      <td>1.45900</td>\n",
       "      <td>0.34699</td>\n",
       "      <td>4</td>\n",
       "      <td>7.522</td>\n",
       "      <td>0.88521</td>\n",
       "      <td>1.33095</td>\n",
       "      <td>0.36503</td>\n",
       "      <td>2015</td>\n",
       "    </tr>\n",
       "    <tr>\n",
       "      <th>4</th>\n",
       "      <td>Canada</td>\n",
       "      <td>0.63297</td>\n",
       "      <td>1.32629</td>\n",
       "      <td>0.45811</td>\n",
       "      <td>5</td>\n",
       "      <td>7.427</td>\n",
       "      <td>0.90563</td>\n",
       "      <td>1.32261</td>\n",
       "      <td>0.32957</td>\n",
       "      <td>2015</td>\n",
       "    </tr>\n",
       "  </tbody>\n",
       "</table>\n",
       "</div>"
      ],
      "text/plain": [
       "       country  freedom  gdp_per_capita  generosity  happiness_rank  \\\n",
       "0  Switzerland  0.66557         1.39651     0.29678               1   \n",
       "1      Iceland  0.62877         1.30232     0.43630               2   \n",
       "2      Denmark  0.64938         1.32548     0.34139               3   \n",
       "3       Norway  0.66973         1.45900     0.34699               4   \n",
       "4       Canada  0.63297         1.32629     0.45811               5   \n",
       "\n",
       "   happiness_score  healthy_life_expectancy  social_support  \\\n",
       "0            7.587                  0.94143         1.34951   \n",
       "1            7.561                  0.94784         1.40223   \n",
       "2            7.527                  0.87464         1.36058   \n",
       "3            7.522                  0.88521         1.33095   \n",
       "4            7.427                  0.90563         1.32261   \n",
       "\n",
       "   trust_government_corruption  year  \n",
       "0                      0.41978  2015  \n",
       "1                      0.14145  2015  \n",
       "2                      0.48357  2015  \n",
       "3                      0.36503  2015  \n",
       "4                      0.32957  2015  "
      ]
     },
     "execution_count": 4,
     "metadata": {},
     "output_type": "execute_result"
    }
   ],
   "source": [
    "df.head()"
   ]
  },
  {
   "cell_type": "code",
   "execution_count": 5,
   "id": "35ba406f",
   "metadata": {},
   "outputs": [],
   "source": [
    "feature_cols = [\n",
    "    'freedom',\n",
    "    'gdp_per_capita',\n",
    "    'healthy_life_expectancy',\n",
    "    'social_support',\n",
    "    'generosity',\n",
    "    'trust_government_corruption',\n",
    "    'year'\n",
    "]\n",
    "\n",
    "X = df[feature_cols]\n",
    "y = df['happiness_score']"
   ]
  },
  {
   "cell_type": "markdown",
   "id": "0418a07b",
   "metadata": {},
   "source": [
    "### Train-Test Split (70-30)\n"
   ]
  },
  {
   "cell_type": "code",
   "execution_count": 6,
   "id": "c56eb243",
   "metadata": {},
   "outputs": [
    {
     "name": "stderr",
     "output_type": "stream",
     "text": [
      "INFO:__main__:X_train shape: (546, 7), X_test shape: (235, 7)\n"
     ]
    }
   ],
   "source": [
    "X_train, X_test, y_train, y_test = train_test_split(\n",
    "    X, y, test_size=0.3, random_state=42\n",
    ")\n",
    "logger.info(f'X_train shape: {X_train.shape}, X_test shape: {X_test.shape}')"
   ]
  },
  {
   "cell_type": "markdown",
   "id": "99bfb651",
   "metadata": {},
   "source": [
    "### Pipeline with .fit() and entretemint"
   ]
  },
  {
   "cell_type": "code",
   "execution_count": 7,
   "id": "5a064fb2",
   "metadata": {},
   "outputs": [
    {
     "name": "stderr",
     "output_type": "stream",
     "text": [
      "INFO:__main__:Pipeline fitted with Ridge(alpha=1.0)\n"
     ]
    }
   ],
   "source": [
    "pipeline = Pipeline([\n",
    "    ('scaler', StandardScaler()),\n",
    "    ('ridge', Ridge(alpha=1.0))\n",
    "])\n",
    "pipeline.fit(X_train, y_train)\n",
    "logger.info('Pipeline fitted with Ridge(alpha=1.0)')"
   ]
  },
  {
   "cell_type": "markdown",
   "id": "e2f79f93",
   "metadata": {},
   "source": [
    "### metrics"
   ]
  },
  {
   "cell_type": "code",
   "execution_count": 8,
   "id": "b26a6ec7",
   "metadata": {},
   "outputs": [
    {
     "name": "stderr",
     "output_type": "stream",
     "text": [
      "INFO:__main__:MAE: 0.4202, MSE: 0.2957, R²: 0.7632\n"
     ]
    }
   ],
   "source": [
    "y_pred = pipeline.predict(X_test)\n",
    "mae = mean_absolute_error(y_test, y_pred)\n",
    "mse = mean_squared_error(y_test, y_pred)\n",
    "r2  = r2_score(y_test, y_pred)\n",
    "logger.info(f'MAE: {mae:.4f}, MSE: {mse:.4f}, R²: {r2:.4f}')"
   ]
  },
  {
   "cell_type": "code",
   "execution_count": 9,
   "id": "ce2e71b4",
   "metadata": {},
   "outputs": [
    {
     "name": "stderr",
     "output_type": "stream",
     "text": [
      "INFO:__main__:Model comparison results:\n",
      "INFO:__main__:\n",
      "              model       MAE       MSE        R2\n",
      "0  LinearRegression  0.420102  0.295687  0.763202\n",
      "1             Lasso  0.455495  0.328934  0.736577\n",
      "2      RandomForest  0.374348  0.230232  0.815621\n",
      "3  GradientBoosting  0.392682  0.247517  0.801779\n"
     ]
    }
   ],
   "source": [
    "logger = logging.getLogger(__name__)\n",
    "\n",
    "models = {\n",
    "    'LinearRegression': LinearRegression(),\n",
    "    'Lasso': Lasso(alpha=0.1),\n",
    "    'RandomForest': RandomForestRegressor(n_estimators=100, random_state=42),\n",
    "    'GradientBoosting': GradientBoostingRegressor(n_estimators=100, random_state=42)\n",
    "}\n",
    "\n",
    "results = []\n",
    "for name, model in models.items():\n",
    "    pipeline = Pipeline([\n",
    "        ('scaler', StandardScaler()),\n",
    "        ('model', model)\n",
    "    ])\n",
    "    pipeline.fit(X_train, y_train)\n",
    "    y_pred = pipeline.predict(X_test)\n",
    "    results.append({\n",
    "        'model': name,\n",
    "        'MAE': mean_absolute_error(y_test, y_pred),\n",
    "        'MSE': mean_squared_error(y_test, y_pred),\n",
    "        'R2': r2_score(y_test, y_pred)\n",
    "    })\n",
    "\n",
    "results_df = pd.DataFrame(results)\n",
    "logger.info('Model comparison results:')\n",
    "logger.info(f'\\n{results_df}')\n"
   ]
  },
  {
   "cell_type": "markdown",
   "id": "aeae2140",
   "metadata": {},
   "source": [
    "### Other way\n",
    "Let's try to use the __'country'__ column, because it may help the model and make its prediction more effective.\n",
    "then, we can map the unique values of __‘country’__ and group them by continents: Europe, America, Asia, Africa, Oceania."
   ]
  },
  {
   "cell_type": "code",
   "execution_count": 10,
   "id": "9db061a8",
   "metadata": {},
   "outputs": [
    {
     "name": "stdout",
     "output_type": "stream",
     "text": [
      "['Switzerland' 'Iceland' 'Denmark' 'Norway' 'Canada' 'Finland'\n",
      " 'Netherlands' 'Sweden' 'New Zealand' 'Australia' 'Israel' 'Costa Rica'\n",
      " 'Austria' 'Mexico' 'United States' 'Brazil' 'Luxembourg' 'Ireland'\n",
      " 'Belgium' 'United Arab Emirates' 'United Kingdom' 'Oman' 'Venezuela'\n",
      " 'Singapore' 'Panama' 'Germany' 'Chile' 'Qatar' 'France' 'Argentina'\n",
      " 'Czech Republic' 'Uruguay' 'Colombia' 'Thailand' 'Saudi Arabia' 'Spain'\n",
      " 'Malta' 'Taiwan' 'Kuwait' 'Suriname' 'Trinidad and Tobago' 'El Salvador'\n",
      " 'Guatemala' 'Uzbekistan' 'Slovakia' 'Japan' 'South Korea' 'Ecuador'\n",
      " 'Bahrain' 'Italy' 'Bolivia' 'Moldova' 'Paraguay' 'Kazakhstan' 'Slovenia'\n",
      " 'Lithuania' 'Nicaragua' 'Peru' 'Belarus' 'Poland' 'Malaysia' 'Croatia'\n",
      " 'Libya' 'Russia' 'Jamaica' 'North Cyprus' 'Cyprus' 'Algeria' 'Kosovo'\n",
      " 'Turkmenistan' 'Mauritius' 'Hong Kong' 'Estonia' 'Indonesia' 'Vietnam'\n",
      " 'Turkey' 'Kyrgyzstan' 'Nigeria' 'Bhutan' 'Azerbaijan' 'Pakistan' 'Jordan'\n",
      " 'Montenegro' 'China' 'Zambia' 'Romania' 'Serbia' 'Portugal' 'Latvia'\n",
      " 'Philippines' 'Somaliland region' 'Morocco' 'Macedonia' 'Mozambique'\n",
      " 'Albania' 'Bosnia and Herzegovina' 'Lesotho' 'Dominican Republic' 'Laos'\n",
      " 'Mongolia' 'Swaziland' 'Greece' 'Lebanon' 'Hungary' 'Honduras'\n",
      " 'Tajikistan' 'Tunisia' 'Palestinian Territories' 'Bangladesh' 'Iran'\n",
      " 'Ukraine' 'Iraq' 'South Africa' 'Ghana' 'Zimbabwe' 'Liberia' 'India'\n",
      " 'Sudan' 'Haiti' 'Congo (Kinshasa)' 'Nepal' 'Ethiopia' 'Sierra Leone'\n",
      " 'Mauritania' 'Kenya' 'Djibouti' 'Armenia' 'Botswana' 'Myanmar' 'Georgia'\n",
      " 'Malawi' 'Sri Lanka' 'Cameroon' 'Bulgaria' 'Egypt' 'Yemen' 'Angola'\n",
      " 'Mali' 'Congo (Brazzaville)' 'Comoros' 'Uganda' 'Senegal' 'Gabon' 'Niger'\n",
      " 'Cambodia' 'Tanzania' 'Madagascar' 'Central African Republic' 'Chad'\n",
      " 'Guinea' 'Ivory Coast' 'Burkina Faso' 'Afghanistan' 'Rwanda' 'Benin'\n",
      " 'Syria' 'Burundi' 'Togo' 'Puerto Rico' 'Belize' 'Somalia'\n",
      " 'Somaliland Region' 'Namibia' 'South Sudan' 'Taiwan Province of China'\n",
      " 'Hong Kong S.A.R., China' 'Trinidad & Tobago' 'Northern Cyprus'\n",
      " 'North Macedonia' 'Gambia']\n"
     ]
    }
   ],
   "source": [
    "unique_countries = df['country'].unique()\n",
    "print(unique_countries)"
   ]
  },
  {
   "cell_type": "markdown",
   "id": "309299e4",
   "metadata": {},
   "source": [
    "### Country-to-Continent Lists\n"
   ]
  },
  {
   "cell_type": "code",
   "execution_count": 11,
   "id": "934b64a7",
   "metadata": {},
   "outputs": [],
   "source": [
    "europe = [\n",
    "    'Switzerland','Iceland','Denmark','Norway','Finland',\n",
    "    'Netherlands','Sweden','Austria','Luxembourg','Ireland',\n",
    "    'Belgium','United Kingdom','France','Germany',\n",
    "    'Czech Republic','Slovakia','Slovenia','Croatia',\n",
    "    'Cyprus','North Cyprus','Northern Cyprus','Macedonia',\n",
    "    'North Macedonia','Montenegro','Kosovo','Serbia',\n",
    "    'Poland','Lithuania','Latvia','Estonia','Hungary',\n",
    "    'Romania','Bulgaria','Belarus','Moldova','Ukraine','Russia',\n",
    "    'Spain','Portugal','Italy','Malta','Greece'\n",
    "]\n",
    "\n",
    "america = [\n",
    "    'Canada','United States','Mexico','Costa Rica','Panama',\n",
    "    'Colombia','Venezuela','Ecuador','Peru','Bolivia','Chile',\n",
    "    'Brazil','Argentina','Uruguay','Paraguay','Suriname',\n",
    "    'Trinidad and Tobago','Trinidad & Tobago','Belize','Guatemala',\n",
    "    'Honduras','El Salvador','Nicaragua','Jamaica','Haiti',\n",
    "    'Dominican Republic','Puerto Rico'\n",
    "]\n",
    "\n",
    "asia = [\n",
    "    'Israel','United Arab Emirates','Oman','Qatar','Saudi Arabia',\n",
    "    'Kuwait','Bahrain','Turkey','Kazakhstan','Uzbekistan',\n",
    "    'Kyrgyzstan','Turkmenistan','Azerbaijan','Armenia','Georgia',\n",
    "    'India','Pakistan','Bangladesh','Nepal','Sri Lanka','Bhutan',\n",
    "    'Afghanistan','China','Hong Kong','Hong Kong S.A.R., China',\n",
    "    'Taiwan','Taiwan Province of China','Japan','South Korea',\n",
    "    'Singapore','Malaysia','Thailand','Philippines','Indonesia',\n",
    "    'Vietnam','Cambodia','Laos','Myanmar','Iraq','Iran','Syria',\n",
    "    'Lebanon','Jordan','Palestinian Territories'\n",
    "]\n",
    "\n",
    "africa = [\n",
    "    'Algeria','Libya','Morocco','Tunisia','Egypt','Sudan',\n",
    "    'South Sudan','Mauritania','Mali','Niger','Chad',\n",
    "    'Central African Republic','Burkina Faso','Ivory Coast',\n",
    "    'Ghana','Togo','Benin','Nigeria','Cameroon','Gabon',\n",
    "    'Congo (Brazzaville)','Congo (Kinshasa)','Angola','Zambia',\n",
    "    'Zimbabwe','Mozambique','Madagascar','Tanzania','Kenya',\n",
    "    'Uganda','Rwanda','Burundi','Ethiopia','Somalia',\n",
    "    'Somaliland region','Somaliland Region','Lesotho','Swaziland',\n",
    "    'South Africa','Djibouti','Comoros','Mauritius','Namibia',\n",
    "    'Senegal','Sierra Leone','Guinea','Liberia'\n",
    "]\n",
    "\n",
    "oceania = [\n",
    "    'Australia','New Zealand'\n",
    "]"
   ]
  },
  {
   "cell_type": "markdown",
   "id": "b8e8b519",
   "metadata": {},
   "source": [
    "### Map Countries to Continents"
   ]
  },
  {
   "cell_type": "code",
   "execution_count": 12,
   "id": "5c258800",
   "metadata": {},
   "outputs": [],
   "source": [
    "continent_map = {c: 'Europe' for c in europe}\n",
    "continent_map.update({c: 'America' for c in america})\n",
    "continent_map.update({c: 'Asia' for c in asia})\n",
    "continent_map.update({c: 'Africa' for c in africa})\n",
    "continent_map.update({c: 'Oceania' for c in oceania})\n",
    "\n",
    "df['continent'] = df['country'].map(continent_map).fillna('Other')"
   ]
  },
  {
   "cell_type": "markdown",
   "id": "9eec0140",
   "metadata": {},
   "source": [
    "### Create Interaction Feature\n"
   ]
  },
  {
   "cell_type": "code",
   "execution_count": 13,
   "id": "53dfadc2",
   "metadata": {},
   "outputs": [],
   "source": [
    "df['gdp_support'] = df['gdp_per_capita'] * df['social_support']"
   ]
  },
  {
   "cell_type": "markdown",
   "id": "df919fa8",
   "metadata": {},
   "source": [
    "### Train-Test Split"
   ]
  },
  {
   "cell_type": "code",
   "execution_count": 14,
   "id": "cdf0a322",
   "metadata": {},
   "outputs": [],
   "source": [
    "X_train, X_test, y_train, y_test = train_test_split(\n",
    "    df[feature_cols + ['continent', 'year', 'gdp_support']],\n",
    "    df['happiness_score'],\n",
    "    test_size=0.3,\n",
    "    random_state=42\n",
    ")"
   ]
  },
  {
   "cell_type": "markdown",
   "id": "750c7081",
   "metadata": {},
   "source": [
    "### One-Hot Encode `continent` and `year`\n"
   ]
  },
  {
   "cell_type": "code",
   "execution_count": 15,
   "id": "4483745f",
   "metadata": {},
   "outputs": [],
   "source": [
    "X_train_enc = pd.get_dummies(X_train, columns=['continent','year'], drop_first=True)\n",
    "X_test_enc  = pd.get_dummies(X_test,  columns=['continent','year'], drop_first=True)\n",
    "X_train_enc, X_test_enc = X_train_enc.align(X_test_enc, join='left', axis=1, fill_value=0)"
   ]
  },
  {
   "cell_type": "markdown",
   "id": "9d3ac213",
   "metadata": {},
   "source": [
    "## Final Random Forest Training and Evaluation\n"
   ]
  },
  {
   "cell_type": "code",
   "execution_count": 16,
   "id": "e59dce8a",
   "metadata": {},
   "outputs": [
    {
     "name": "stderr",
     "output_type": "stream",
     "text": [
      "INFO:__main__:RF MAE: 0.3370, R²: 0.8474\n"
     ]
    }
   ],
   "source": [
    "pipeline_rf_final = pipeline\n",
    "pipeline_rf_final.fit(X_train_enc, y_train)\n",
    "y_pred = pipeline_rf_final.predict(X_test_enc)\n",
    "mae = mean_absolute_error(y_test, y_pred)\n",
    "r2  = r2_score(y_test, y_pred)\n",
    "logger.info(f'RF MAE: {mae:.4f}, R²: {r2:.4f}')"
   ]
  },
  {
   "cell_type": "markdown",
   "id": "15f55c17",
   "metadata": {},
   "source": [
    "Save Final Model to `model/model_random_forest.pkl`\n"
   ]
  },
  {
   "cell_type": "code",
   "execution_count": 17,
   "id": "beeb2ec5",
   "metadata": {},
   "outputs": [
    {
     "name": "stderr",
     "output_type": "stream",
     "text": [
      "INFO:__main__:Saved final RF model to model_random_forest.pkl\n"
     ]
    }
   ],
   "source": [
    "joblib.dump(pipeline_rf_final, 'model/model_random_forest.pkl')\n",
    "logger.info('Saved final RF model to model_random_forest.pkl')"
   ]
  }
 ],
 "metadata": {
  "kernelspec": {
   "display_name": "Python 3",
   "language": "python",
   "name": "python3"
  },
  "language_info": {
   "codemirror_mode": {
    "name": "ipython",
    "version": 3
   },
   "file_extension": ".py",
   "mimetype": "text/x-python",
   "name": "python",
   "nbconvert_exporter": "python",
   "pygments_lexer": "ipython3",
   "version": "3.11.5"
  }
 },
 "nbformat": 4,
 "nbformat_minor": 5
}
